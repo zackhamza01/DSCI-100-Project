{
 "cells": [
  {
   "cell_type": "code",
   "execution_count": 9,
   "metadata": {},
   "outputs": [],
   "source": [
    "library(tidyverse)\n",
    "library(repr)\n",
    "library(readxl)\n",
    "options(repr.matrix.max.rows = 8)"
   ]
  },
  {
   "cell_type": "code",
   "execution_count": 10,
   "metadata": {},
   "outputs": [
    {
     "data": {
      "text/html": [
       "<table>\n",
       "<caption>A tibble: 30000 × 25</caption>\n",
       "<thead>\n",
       "\t<tr><th scope=col>ID</th><th scope=col>LIMIT_BAL</th><th scope=col>SEX</th><th scope=col>EDUCATION</th><th scope=col>MARRIAGE</th><th scope=col>AGE</th><th scope=col>PAY_0</th><th scope=col>PAY_2</th><th scope=col>PAY_3</th><th scope=col>PAY_4</th><th scope=col>⋯</th><th scope=col>BILL_AMT4</th><th scope=col>BILL_AMT5</th><th scope=col>BILL_AMT6</th><th scope=col>PAY_AMT1</th><th scope=col>PAY_AMT2</th><th scope=col>PAY_AMT3</th><th scope=col>PAY_AMT4</th><th scope=col>PAY_AMT5</th><th scope=col>PAY_AMT6</th><th scope=col>default payment next month</th></tr>\n",
       "\t<tr><th scope=col>&lt;dbl&gt;</th><th scope=col>&lt;dbl&gt;</th><th scope=col>&lt;dbl&gt;</th><th scope=col>&lt;dbl&gt;</th><th scope=col>&lt;dbl&gt;</th><th scope=col>&lt;dbl&gt;</th><th scope=col>&lt;dbl&gt;</th><th scope=col>&lt;dbl&gt;</th><th scope=col>&lt;dbl&gt;</th><th scope=col>&lt;dbl&gt;</th><th scope=col>⋯</th><th scope=col>&lt;dbl&gt;</th><th scope=col>&lt;dbl&gt;</th><th scope=col>&lt;dbl&gt;</th><th scope=col>&lt;dbl&gt;</th><th scope=col>&lt;dbl&gt;</th><th scope=col>&lt;dbl&gt;</th><th scope=col>&lt;dbl&gt;</th><th scope=col>&lt;dbl&gt;</th><th scope=col>&lt;dbl&gt;</th><th scope=col>&lt;dbl&gt;</th></tr>\n",
       "</thead>\n",
       "<tbody>\n",
       "\t<tr><td>1</td><td> 20000</td><td>2</td><td>2</td><td>1</td><td>24</td><td> 2</td><td>2</td><td>-1</td><td>-1</td><td>⋯</td><td>    0</td><td>    0</td><td>    0</td><td>   0</td><td> 689</td><td>   0</td><td>   0</td><td>   0</td><td>   0</td><td>1</td></tr>\n",
       "\t<tr><td>2</td><td>120000</td><td>2</td><td>2</td><td>2</td><td>26</td><td>-1</td><td>2</td><td> 0</td><td> 0</td><td>⋯</td><td> 3272</td><td> 3455</td><td> 3261</td><td>   0</td><td>1000</td><td>1000</td><td>1000</td><td>   0</td><td>2000</td><td>1</td></tr>\n",
       "\t<tr><td>3</td><td> 90000</td><td>2</td><td>2</td><td>2</td><td>34</td><td> 0</td><td>0</td><td> 0</td><td> 0</td><td>⋯</td><td>14331</td><td>14948</td><td>15549</td><td>1518</td><td>1500</td><td>1000</td><td>1000</td><td>1000</td><td>5000</td><td>0</td></tr>\n",
       "\t<tr><td>4</td><td> 50000</td><td>2</td><td>2</td><td>1</td><td>37</td><td> 0</td><td>0</td><td> 0</td><td> 0</td><td>⋯</td><td>28314</td><td>28959</td><td>29547</td><td>2000</td><td>2019</td><td>1200</td><td>1100</td><td>1069</td><td>1000</td><td>0</td></tr>\n",
       "\t<tr><td>⋮</td><td>⋮</td><td>⋮</td><td>⋮</td><td>⋮</td><td>⋮</td><td>⋮</td><td>⋮</td><td>⋮</td><td>⋮</td><td>⋱</td><td>⋮</td><td>⋮</td><td>⋮</td><td>⋮</td><td>⋮</td><td>⋮</td><td>⋮</td><td>⋮</td><td>⋮</td><td>⋮</td></tr>\n",
       "\t<tr><td>29997</td><td>150000</td><td>1</td><td>3</td><td>2</td><td>43</td><td>-1</td><td>-1</td><td>-1</td><td>-1</td><td>⋯</td><td> 8979</td><td> 5190</td><td>    0</td><td> 1837</td><td>3526</td><td> 8998</td><td> 129</td><td>    0</td><td>   0</td><td>0</td></tr>\n",
       "\t<tr><td>29998</td><td> 30000</td><td>1</td><td>2</td><td>2</td><td>37</td><td> 4</td><td> 3</td><td> 2</td><td>-1</td><td>⋯</td><td>20878</td><td>20582</td><td>19357</td><td>    0</td><td>   0</td><td>22000</td><td>4200</td><td> 2000</td><td>3100</td><td>1</td></tr>\n",
       "\t<tr><td>29999</td><td> 80000</td><td>1</td><td>3</td><td>1</td><td>41</td><td> 1</td><td>-1</td><td> 0</td><td> 0</td><td>⋯</td><td>52774</td><td>11855</td><td>48944</td><td>85900</td><td>3409</td><td> 1178</td><td>1926</td><td>52964</td><td>1804</td><td>1</td></tr>\n",
       "\t<tr><td>30000</td><td> 50000</td><td>1</td><td>2</td><td>1</td><td>46</td><td> 0</td><td> 0</td><td> 0</td><td> 0</td><td>⋯</td><td>36535</td><td>32428</td><td>15313</td><td> 2078</td><td>1800</td><td> 1430</td><td>1000</td><td> 1000</td><td>1000</td><td>1</td></tr>\n",
       "</tbody>\n",
       "</table>\n"
      ],
      "text/latex": [
       "A tibble: 30000 × 25\n",
       "\\begin{tabular}{lllllllllllllllllllll}\n",
       " ID & LIMIT\\_BAL & SEX & EDUCATION & MARRIAGE & AGE & PAY\\_0 & PAY\\_2 & PAY\\_3 & PAY\\_4 & ⋯ & BILL\\_AMT4 & BILL\\_AMT5 & BILL\\_AMT6 & PAY\\_AMT1 & PAY\\_AMT2 & PAY\\_AMT3 & PAY\\_AMT4 & PAY\\_AMT5 & PAY\\_AMT6 & default payment next month\\\\\n",
       " <dbl> & <dbl> & <dbl> & <dbl> & <dbl> & <dbl> & <dbl> & <dbl> & <dbl> & <dbl> & ⋯ & <dbl> & <dbl> & <dbl> & <dbl> & <dbl> & <dbl> & <dbl> & <dbl> & <dbl> & <dbl>\\\\\n",
       "\\hline\n",
       "\t 1 &  20000 & 2 & 2 & 1 & 24 &  2 & 2 & -1 & -1 & ⋯ &     0 &     0 &     0 &    0 &  689 &    0 &    0 &    0 &    0 & 1\\\\\n",
       "\t 2 & 120000 & 2 & 2 & 2 & 26 & -1 & 2 &  0 &  0 & ⋯ &  3272 &  3455 &  3261 &    0 & 1000 & 1000 & 1000 &    0 & 2000 & 1\\\\\n",
       "\t 3 &  90000 & 2 & 2 & 2 & 34 &  0 & 0 &  0 &  0 & ⋯ & 14331 & 14948 & 15549 & 1518 & 1500 & 1000 & 1000 & 1000 & 5000 & 0\\\\\n",
       "\t 4 &  50000 & 2 & 2 & 1 & 37 &  0 & 0 &  0 &  0 & ⋯ & 28314 & 28959 & 29547 & 2000 & 2019 & 1200 & 1100 & 1069 & 1000 & 0\\\\\n",
       "\t ⋮ & ⋮ & ⋮ & ⋮ & ⋮ & ⋮ & ⋮ & ⋮ & ⋮ & ⋮ & ⋱ & ⋮ & ⋮ & ⋮ & ⋮ & ⋮ & ⋮ & ⋮ & ⋮ & ⋮ & ⋮\\\\\n",
       "\t 29997 & 150000 & 1 & 3 & 2 & 43 & -1 & -1 & -1 & -1 & ⋯ &  8979 &  5190 &     0 &  1837 & 3526 &  8998 &  129 &     0 &    0 & 0\\\\\n",
       "\t 29998 &  30000 & 1 & 2 & 2 & 37 &  4 &  3 &  2 & -1 & ⋯ & 20878 & 20582 & 19357 &     0 &    0 & 22000 & 4200 &  2000 & 3100 & 1\\\\\n",
       "\t 29999 &  80000 & 1 & 3 & 1 & 41 &  1 & -1 &  0 &  0 & ⋯ & 52774 & 11855 & 48944 & 85900 & 3409 &  1178 & 1926 & 52964 & 1804 & 1\\\\\n",
       "\t 30000 &  50000 & 1 & 2 & 1 & 46 &  0 &  0 &  0 &  0 & ⋯ & 36535 & 32428 & 15313 &  2078 & 1800 &  1430 & 1000 &  1000 & 1000 & 1\\\\\n",
       "\\end{tabular}\n"
      ],
      "text/markdown": [
       "\n",
       "A tibble: 30000 × 25\n",
       "\n",
       "| ID &lt;dbl&gt; | LIMIT_BAL &lt;dbl&gt; | SEX &lt;dbl&gt; | EDUCATION &lt;dbl&gt; | MARRIAGE &lt;dbl&gt; | AGE &lt;dbl&gt; | PAY_0 &lt;dbl&gt; | PAY_2 &lt;dbl&gt; | PAY_3 &lt;dbl&gt; | PAY_4 &lt;dbl&gt; | ⋯ ⋯ | BILL_AMT4 &lt;dbl&gt; | BILL_AMT5 &lt;dbl&gt; | BILL_AMT6 &lt;dbl&gt; | PAY_AMT1 &lt;dbl&gt; | PAY_AMT2 &lt;dbl&gt; | PAY_AMT3 &lt;dbl&gt; | PAY_AMT4 &lt;dbl&gt; | PAY_AMT5 &lt;dbl&gt; | PAY_AMT6 &lt;dbl&gt; | default payment next month &lt;dbl&gt; |\n",
       "|---|---|---|---|---|---|---|---|---|---|---|---|---|---|---|---|---|---|---|---|---|\n",
       "| 1 |  20000 | 2 | 2 | 1 | 24 |  2 | 2 | -1 | -1 | ⋯ |     0 |     0 |     0 |    0 |  689 |    0 |    0 |    0 |    0 | 1 |\n",
       "| 2 | 120000 | 2 | 2 | 2 | 26 | -1 | 2 |  0 |  0 | ⋯ |  3272 |  3455 |  3261 |    0 | 1000 | 1000 | 1000 |    0 | 2000 | 1 |\n",
       "| 3 |  90000 | 2 | 2 | 2 | 34 |  0 | 0 |  0 |  0 | ⋯ | 14331 | 14948 | 15549 | 1518 | 1500 | 1000 | 1000 | 1000 | 5000 | 0 |\n",
       "| 4 |  50000 | 2 | 2 | 1 | 37 |  0 | 0 |  0 |  0 | ⋯ | 28314 | 28959 | 29547 | 2000 | 2019 | 1200 | 1100 | 1069 | 1000 | 0 |\n",
       "| ⋮ | ⋮ | ⋮ | ⋮ | ⋮ | ⋮ | ⋮ | ⋮ | ⋮ | ⋮ | ⋱ | ⋮ | ⋮ | ⋮ | ⋮ | ⋮ | ⋮ | ⋮ | ⋮ | ⋮ | ⋮ |\n",
       "| 29997 | 150000 | 1 | 3 | 2 | 43 | -1 | -1 | -1 | -1 | ⋯ |  8979 |  5190 |     0 |  1837 | 3526 |  8998 |  129 |     0 |    0 | 0 |\n",
       "| 29998 |  30000 | 1 | 2 | 2 | 37 |  4 |  3 |  2 | -1 | ⋯ | 20878 | 20582 | 19357 |     0 |    0 | 22000 | 4200 |  2000 | 3100 | 1 |\n",
       "| 29999 |  80000 | 1 | 3 | 1 | 41 |  1 | -1 |  0 |  0 | ⋯ | 52774 | 11855 | 48944 | 85900 | 3409 |  1178 | 1926 | 52964 | 1804 | 1 |\n",
       "| 30000 |  50000 | 1 | 2 | 1 | 46 |  0 |  0 |  0 |  0 | ⋯ | 36535 | 32428 | 15313 |  2078 | 1800 |  1430 | 1000 |  1000 | 1000 | 1 |\n",
       "\n"
      ],
      "text/plain": [
       "      ID    LIMIT_BAL SEX EDUCATION MARRIAGE AGE PAY_0 PAY_2 PAY_3 PAY_4 ⋯\n",
       "1     1      20000    2   2         1        24   2    2     -1    -1    ⋯\n",
       "2     2     120000    2   2         2        26  -1    2      0     0    ⋯\n",
       "3     3      90000    2   2         2        34   0    0      0     0    ⋯\n",
       "4     4      50000    2   2         1        37   0    0      0     0    ⋯\n",
       "⋮     ⋮     ⋮         ⋮   ⋮         ⋮        ⋮   ⋮     ⋮     ⋮     ⋮     ⋱\n",
       "29997 29997 150000    1   3         2        43  -1    -1    -1    -1    ⋯\n",
       "29998 29998  30000    1   2         2        37   4     3     2    -1    ⋯\n",
       "29999 29999  80000    1   3         1        41   1    -1     0     0    ⋯\n",
       "30000 30000  50000    1   2         1        46   0     0     0     0    ⋯\n",
       "      BILL_AMT4 BILL_AMT5 BILL_AMT6 PAY_AMT1 PAY_AMT2 PAY_AMT3 PAY_AMT4\n",
       "1         0         0         0        0      689        0        0    \n",
       "2      3272      3455      3261        0     1000     1000     1000    \n",
       "3     14331     14948     15549     1518     1500     1000     1000    \n",
       "4     28314     28959     29547     2000     2019     1200     1100    \n",
       "⋮     ⋮         ⋮         ⋮         ⋮        ⋮        ⋮        ⋮       \n",
       "29997  8979      5190         0      1837    3526      8998     129    \n",
       "29998 20878     20582     19357         0       0     22000    4200    \n",
       "29999 52774     11855     48944     85900    3409      1178    1926    \n",
       "30000 36535     32428     15313      2078    1800      1430    1000    \n",
       "      PAY_AMT5 PAY_AMT6 default payment next month\n",
       "1        0        0     1                         \n",
       "2        0     2000     1                         \n",
       "3     1000     5000     0                         \n",
       "4     1069     1000     0                         \n",
       "⋮     ⋮        ⋮        ⋮                         \n",
       "29997     0       0     0                         \n",
       "29998  2000    3100     1                         \n",
       "29999 52964    1804     1                         \n",
       "30000  1000    1000     1                         "
      ]
     },
     "metadata": {},
     "output_type": "display_data"
    }
   ],
   "source": [
    "credit_data <- read_excel(\"data/creditcarddata.xls\", skip = 1)\n",
    "credit_data"
   ]
  },
  {
   "cell_type": "code",
   "execution_count": null,
   "metadata": {},
   "outputs": [],
   "source": []
  }
 ],
 "metadata": {
  "kernelspec": {
   "display_name": "R",
   "language": "R",
   "name": "ir"
  },
  "language_info": {
   "codemirror_mode": "r",
   "file_extension": ".r",
   "mimetype": "text/x-r-source",
   "name": "R",
   "pygments_lexer": "r",
   "version": "4.0.0"
  }
 },
 "nbformat": 4,
 "nbformat_minor": 4
}
