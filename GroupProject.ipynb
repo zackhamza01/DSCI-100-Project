{
 "cells": [
  {
   "cell_type": "markdown",
   "metadata": {},
   "source": [
    "# Predicting Education History From Credit Data"
   ]
  },
  {
   "cell_type": "markdown",
   "metadata": {},
   "source": [
    "## Introduction\n",
    "\n",
    "When individuals have a credit card, there is a credit amount which is a limit on the amount they can purchase, while the amount they actually purchase is their bill statement. A credit default is when a client cannot pay their bill statement. \n",
    "Is there a relationship between how many people default and their credit limit/bill statement? How does this change based on a person's educational history?\n",
    "We are using the default of credit card clients dataset from the UCI Machine Learning Repository which has data on 30,000 individuals and their credit history. The dataset includes each individual’s credit amount, gender, education, marital status, age, history of past payment, amount of bill statement, and amount of previous payment.\n"
   ]
  },
  {
   "cell_type": "markdown",
   "metadata": {},
   "source": [
    "## Preliminary Data Exploration"
   ]
  },
  {
   "cell_type": "code",
   "execution_count": 1,
   "metadata": {},
   "outputs": [
    {
     "name": "stderr",
     "output_type": "stream",
     "text": [
      "── \u001b[1mAttaching packages\u001b[22m ─────────────────────────────────────── tidyverse 1.3.0 ──\n",
      "\n",
      "\u001b[32m✔\u001b[39m \u001b[34mggplot2\u001b[39m 3.3.2     \u001b[32m✔\u001b[39m \u001b[34mpurrr  \u001b[39m 0.3.4\n",
      "\u001b[32m✔\u001b[39m \u001b[34mtibble \u001b[39m 3.0.3     \u001b[32m✔\u001b[39m \u001b[34mdplyr  \u001b[39m 1.0.2\n",
      "\u001b[32m✔\u001b[39m \u001b[34mtidyr  \u001b[39m 1.1.2     \u001b[32m✔\u001b[39m \u001b[34mstringr\u001b[39m 1.4.0\n",
      "\u001b[32m✔\u001b[39m \u001b[34mreadr  \u001b[39m 1.3.1     \u001b[32m✔\u001b[39m \u001b[34mforcats\u001b[39m 0.5.0\n",
      "\n",
      "Warning message:\n",
      "“package ‘ggplot2’ was built under R version 4.0.1”\n",
      "Warning message:\n",
      "“package ‘tibble’ was built under R version 4.0.2”\n",
      "Warning message:\n",
      "“package ‘tidyr’ was built under R version 4.0.2”\n",
      "Warning message:\n",
      "“package ‘dplyr’ was built under R version 4.0.2”\n",
      "── \u001b[1mConflicts\u001b[22m ────────────────────────────────────────── tidyverse_conflicts() ──\n",
      "\u001b[31m✖\u001b[39m \u001b[34mdplyr\u001b[39m::\u001b[32mfilter()\u001b[39m masks \u001b[34mstats\u001b[39m::filter()\n",
      "\u001b[31m✖\u001b[39m \u001b[34mdplyr\u001b[39m::\u001b[32mlag()\u001b[39m    masks \u001b[34mstats\u001b[39m::lag()\n",
      "\n"
     ]
    }
   ],
   "source": [
    "library(tidyverse)\n",
    "library(repr)\n",
    "library(readxl)\n",
    "options(repr.matrix.max.rows = 8)"
   ]
  },
  {
   "cell_type": "code",
   "execution_count": 13,
   "metadata": {},
   "outputs": [
    {
     "name": "stderr",
     "output_type": "stream",
     "text": [
      "Parsed with column specification:\n",
      "cols(\n",
      "  .default = col_double()\n",
      ")\n",
      "\n",
      "See spec(...) for full column specifications.\n",
      "\n"
     ]
    },
    {
     "data": {
      "text/html": [
       "<table>\n",
       "<caption>A tibble: 30000 × 5</caption>\n",
       "<thead>\n",
       "\t<tr><th scope=col>EDUCATION</th><th scope=col>AGE</th><th scope=col>LIMIT_BAL</th><th scope=col>BILL_AVG</th><th scope=col>PAY_AVG</th></tr>\n",
       "\t<tr><th scope=col>&lt;fct&gt;</th><th scope=col>&lt;dbl&gt;</th><th scope=col>&lt;dbl&gt;</th><th scope=col>&lt;dbl&gt;</th><th scope=col>&lt;dbl&gt;</th></tr>\n",
       "</thead>\n",
       "<tbody>\n",
       "\t<tr><td>2</td><td>24</td><td> 20000</td><td> 1284.000</td><td> 114.8333</td></tr>\n",
       "\t<tr><td>2</td><td>26</td><td>120000</td><td> 2846.167</td><td> 833.3333</td></tr>\n",
       "\t<tr><td>2</td><td>34</td><td> 90000</td><td>16942.167</td><td>1836.3333</td></tr>\n",
       "\t<tr><td>2</td><td>37</td><td> 50000</td><td>38555.667</td><td>1398.0000</td></tr>\n",
       "\t<tr><td>⋮</td><td>⋮</td><td>⋮</td><td>⋮</td><td>⋮</td></tr>\n",
       "\t<tr><td>3</td><td>43</td><td>150000</td><td> 3530.333</td><td> 2415.000</td></tr>\n",
       "\t<tr><td>2</td><td>37</td><td> 30000</td><td>11749.333</td><td> 5216.667</td></tr>\n",
       "\t<tr><td>3</td><td>41</td><td> 80000</td><td>44435.167</td><td>24530.167</td></tr>\n",
       "\t<tr><td>2</td><td>46</td><td> 50000</td><td>38479.000</td><td> 1384.667</td></tr>\n",
       "</tbody>\n",
       "</table>\n"
      ],
      "text/latex": [
       "A tibble: 30000 × 5\n",
       "\\begin{tabular}{lllll}\n",
       " EDUCATION & AGE & LIMIT\\_BAL & BILL\\_AVG & PAY\\_AVG\\\\\n",
       " <fct> & <dbl> & <dbl> & <dbl> & <dbl>\\\\\n",
       "\\hline\n",
       "\t 2 & 24 &  20000 &  1284.000 &  114.8333\\\\\n",
       "\t 2 & 26 & 120000 &  2846.167 &  833.3333\\\\\n",
       "\t 2 & 34 &  90000 & 16942.167 & 1836.3333\\\\\n",
       "\t 2 & 37 &  50000 & 38555.667 & 1398.0000\\\\\n",
       "\t ⋮ & ⋮ & ⋮ & ⋮ & ⋮\\\\\n",
       "\t 3 & 43 & 150000 &  3530.333 &  2415.000\\\\\n",
       "\t 2 & 37 &  30000 & 11749.333 &  5216.667\\\\\n",
       "\t 3 & 41 &  80000 & 44435.167 & 24530.167\\\\\n",
       "\t 2 & 46 &  50000 & 38479.000 &  1384.667\\\\\n",
       "\\end{tabular}\n"
      ],
      "text/markdown": [
       "\n",
       "A tibble: 30000 × 5\n",
       "\n",
       "| EDUCATION &lt;fct&gt; | AGE &lt;dbl&gt; | LIMIT_BAL &lt;dbl&gt; | BILL_AVG &lt;dbl&gt; | PAY_AVG &lt;dbl&gt; |\n",
       "|---|---|---|---|---|\n",
       "| 2 | 24 |  20000 |  1284.000 |  114.8333 |\n",
       "| 2 | 26 | 120000 |  2846.167 |  833.3333 |\n",
       "| 2 | 34 |  90000 | 16942.167 | 1836.3333 |\n",
       "| 2 | 37 |  50000 | 38555.667 | 1398.0000 |\n",
       "| ⋮ | ⋮ | ⋮ | ⋮ | ⋮ |\n",
       "| 3 | 43 | 150000 |  3530.333 |  2415.000 |\n",
       "| 2 | 37 |  30000 | 11749.333 |  5216.667 |\n",
       "| 3 | 41 |  80000 | 44435.167 | 24530.167 |\n",
       "| 2 | 46 |  50000 | 38479.000 |  1384.667 |\n",
       "\n"
      ],
      "text/plain": [
       "      EDUCATION AGE LIMIT_BAL BILL_AVG  PAY_AVG  \n",
       "1     2         24   20000     1284.000  114.8333\n",
       "2     2         26  120000     2846.167  833.3333\n",
       "3     2         34   90000    16942.167 1836.3333\n",
       "4     2         37   50000    38555.667 1398.0000\n",
       "⋮     ⋮         ⋮   ⋮         ⋮         ⋮        \n",
       "29997 3         43  150000     3530.333  2415.000\n",
       "29998 2         37   30000    11749.333  5216.667\n",
       "29999 3         41   80000    44435.167 24530.167\n",
       "30000 2         46   50000    38479.000  1384.667"
      ]
     },
     "metadata": {},
     "output_type": "display_data"
    }
   ],
   "source": [
    "# reading in the data\n",
    "url <- \"https://github.com/zackhamza01/DSCI-100-Project/raw/main/data/creditcardcsv.csv\"\n",
    "credit_data <- read_csv(url, skip = 1)\n",
    "\n",
    "# tidying the data\n",
    "tidied_credit_data <- credit_data %>%\n",
    "    mutate(BILL_AVG = (BILL_AMT1 + BILL_AMT2 + BILL_AMT3 + BILL_AMT4 + BILL_AMT5 + BILL_AMT6) / 6) %>%\n",
    "    mutate(PAY_AVG = (PAY_AMT1 + PAY_AMT2 + PAY_AMT3 + PAY_AMT4 + PAY_AMT5 + PAY_AMT6) / 6) %>%\n",
    "    select(EDUCATION, AGE, LIMIT_BAL, BILL_AVG, PAY_AVG) %>%\n",
    "    mutate(EDUCATION = as_factor(EDUCATION))\n",
    "\n",
    "tidied_credit_data"
   ]
  },
  {
   "cell_type": "code",
   "execution_count": null,
   "metadata": {},
   "outputs": [],
   "source": []
  }
 ],
 "metadata": {
  "kernelspec": {
   "display_name": "R",
   "language": "R",
   "name": "ir"
  },
  "language_info": {
   "codemirror_mode": "r",
   "file_extension": ".r",
   "mimetype": "text/x-r-source",
   "name": "R",
   "pygments_lexer": "r",
   "version": "4.0.0"
  }
 },
 "nbformat": 4,
 "nbformat_minor": 4
}
